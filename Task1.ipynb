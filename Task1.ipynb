{
 "cells": [
  {
   "cell_type": "code",
   "execution_count": 65,
   "id": "488be6f7",
   "metadata": {},
   "outputs": [],
   "source": [
    "#Importing Packages\n",
    "import pandas as pd\n",
    "import numpy as np\n",
    "from sklearn import metrics  "
   ]
  },
  {
   "cell_type": "code",
   "execution_count": 66,
   "id": "165d90f7",
   "metadata": {},
   "outputs": [],
   "source": [
    "#Reading Data\n",
    "Data = pd.read_csv('student_scores - student_scores.csv')"
   ]
  },
  {
   "cell_type": "code",
   "execution_count": 67,
   "id": "d5c0da2b",
   "metadata": {},
   "outputs": [
    {
     "data": {
      "text/html": [
       "<div>\n",
       "<style scoped>\n",
       "    .dataframe tbody tr th:only-of-type {\n",
       "        vertical-align: middle;\n",
       "    }\n",
       "\n",
       "    .dataframe tbody tr th {\n",
       "        vertical-align: top;\n",
       "    }\n",
       "\n",
       "    .dataframe thead th {\n",
       "        text-align: right;\n",
       "    }\n",
       "</style>\n",
       "<table border=\"1\" class=\"dataframe\">\n",
       "  <thead>\n",
       "    <tr style=\"text-align: right;\">\n",
       "      <th></th>\n",
       "      <th>Hours</th>\n",
       "      <th>Scores</th>\n",
       "    </tr>\n",
       "  </thead>\n",
       "  <tbody>\n",
       "    <tr>\n",
       "      <th>0</th>\n",
       "      <td>2.5</td>\n",
       "      <td>21</td>\n",
       "    </tr>\n",
       "    <tr>\n",
       "      <th>1</th>\n",
       "      <td>5.1</td>\n",
       "      <td>47</td>\n",
       "    </tr>\n",
       "    <tr>\n",
       "      <th>2</th>\n",
       "      <td>3.2</td>\n",
       "      <td>27</td>\n",
       "    </tr>\n",
       "    <tr>\n",
       "      <th>3</th>\n",
       "      <td>8.5</td>\n",
       "      <td>75</td>\n",
       "    </tr>\n",
       "    <tr>\n",
       "      <th>4</th>\n",
       "      <td>3.5</td>\n",
       "      <td>30</td>\n",
       "    </tr>\n",
       "  </tbody>\n",
       "</table>\n",
       "</div>"
      ],
      "text/plain": [
       "   Hours  Scores\n",
       "0    2.5      21\n",
       "1    5.1      47\n",
       "2    3.2      27\n",
       "3    8.5      75\n",
       "4    3.5      30"
      ]
     },
     "execution_count": 67,
     "metadata": {},
     "output_type": "execute_result"
    }
   ],
   "source": [
    "Data.head()"
   ]
  },
  {
   "cell_type": "code",
   "execution_count": 68,
   "id": "db793c42",
   "metadata": {},
   "outputs": [],
   "source": [
    "# Split the Data To X and Y where X is the input Feature (Hours) and Y is the Output (Scores)\n",
    "X = np.array(Data['Hours'])\n",
    "X = X.reshape(X.shape[0],1)\n",
    "Y = np.array(Data['Scores'])\n",
    "Y = Y.reshape(Y.shape[0],1)"
   ]
  },
  {
   "cell_type": "code",
   "execution_count": 69,
   "id": "1ec7dfb2",
   "metadata": {},
   "outputs": [],
   "source": [
    "def Predictive_Line(X, Theta):\n",
    "\n",
    "    Predictions = None\n",
    "    X = np.append(np.ones((1,X.shape[0])), X.reshape((1,X.shape[0])), axis = 0)\n",
    "\n",
    "  \n",
    "    Predictions = np.dot(Theta.T, X)\n",
    "\n",
    "  \n",
    "    Predictions = Predictions.T\n",
    "    return Predictions"
   ]
  },
  {
   "cell_type": "code",
   "execution_count": 70,
   "id": "8da73d0d",
   "metadata": {},
   "outputs": [],
   "source": [
    "def Calculate_Cost(X, Theta, Y):\n",
    "    m = Y.shape[0]\n",
    "    J = 0\n",
    "\n",
    "    h = Predictive_Line(X, Theta)\n",
    "    J = ((1/(2 * m)) * np.sum(np.square(h - Y), axis = 0))\n",
    " \n",
    "    return J"
   ]
  },
  {
   "cell_type": "code",
   "execution_count": 71,
   "id": "3068c603",
   "metadata": {},
   "outputs": [],
   "source": [
    "def Gradient_Descent(X, Y, Theta, alpha, num_iters):\n",
    "\n",
    "    m = Y.shape[0]\n",
    "  \n",
    "    X1 = np.append(np.ones(X.shape) , X, axis = 1)\n",
    "    for i in range(num_iters):\n",
    "        h = Predictive_Line(X, Theta.reshape((2,1)))\n",
    "        Theta = Theta - (alpha / m) * ((h - Y).T).dot(X1)\n",
    "    return Theta"
   ]
  },
  {
   "cell_type": "code",
   "execution_count": 72,
   "id": "0d18cfb4",
   "metadata": {},
   "outputs": [
    {
     "name": "stdout",
     "output_type": "stream",
     "text": [
      "Cost = [14.49345133]\n"
     ]
    }
   ],
   "source": [
    "Theta = Gradient_Descent(X, Y, Theta = np.zeros((1, 2)), alpha = 0.01,num_iters= 100)\n",
    "\n",
    "Predicted_Score = Predictive_Line(np.array([9.25]), Theta.T)\n",
    "\n",
    "Cost = Calculate_Cost(X, Theta.T, Y)\n",
    "print( 'Cost = '+ str(Cost))"
   ]
  },
  {
   "cell_type": "code",
   "execution_count": 64,
   "id": "fbf79aae",
   "metadata": {},
   "outputs": [
    {
     "name": "stdout",
     "output_type": "stream",
     "text": [
      "The predicted Score of a student that studies for 9.25hrs/day is: [[93.26937683]]\n"
     ]
    }
   ],
   "source": [
    "print(\"The predicted Score of a student that studies for 9.25hrs/day is: \" + str(Predicted_Score))"
   ]
  },
  {
   "cell_type": "code",
   "execution_count": null,
   "id": "466195a9",
   "metadata": {},
   "outputs": [],
   "source": []
  }
 ],
 "metadata": {
  "kernelspec": {
   "display_name": "Python 3",
   "language": "python",
   "name": "python3"
  },
  "language_info": {
   "codemirror_mode": {
    "name": "ipython",
    "version": 3
   },
   "file_extension": ".py",
   "mimetype": "text/x-python",
   "name": "python",
   "nbconvert_exporter": "python",
   "pygments_lexer": "ipython3",
   "version": "3.8.8"
  }
 },
 "nbformat": 4,
 "nbformat_minor": 5
}
